{
 "cells": [
  {
   "cell_type": "markdown",
   "metadata": {
    "hide_input": true
   },
   "source": [
    "# Práctica Análisis de Sentimientos"
   ]
  },
  {
   "cell_type": "markdown",
   "metadata": {},
   "source": [
    "Para esta práctica se proporciona el corpus “reviews_filmaffinity.csv” que contiene 1882 criticas\n",
    "de películas obtenidas de la web de Filmaffinity. \n",
    "\n",
    "El contenido de este corpus es el siguiente:\n",
    "\n",
    "• film_name: Nombre de la película\n",
    "\n",
    "• film_avg_rate: Valoración media de la película de 1 a 10 (voto de todos los usuarios).\n",
    "\n",
    "• review_rate: Valoración de la película (1-10) por parte del usuario que redacta la crítica.\n",
    "\n",
    "• review_title: Título de la crítica.\n",
    "\n",
    "• review_text: Crítica de la película.\n",
    "\n",
    "**Para superar esta práctica se pide como mínimo:**\n",
    "1. Dividir el corpus en corpus de entrenamiento y de test (80% - 20% respectivamente).\n",
    "2. Clasificar las críticas como positivas y negativas en función de su nota (positivas > 5,\n",
    "negativas <= 5).\n",
    "3. Normalizar el texto\n",
    "4. Tokenizar los documentos\n",
    "5. Crear un modelo. Se propone el Naive Bayes pero se puede elegir el que se quiera\n",
    "6. Evaluar el modelo (porcentaje de acierto).\n",
    "Para superar esta práctica con nota de pide:\n",
    "1. Dividir el corpus en corpus de entrenamiento y de test (80% - 20% respectivamente).\n",
    "2. Clasificar las críticas como positivas, neutras o negativas en función de su nota \n",
    "(positivas> 6, 6 >= neutras >= 4, negativas < 4).\n",
    "3. Normalizar el texto\n",
    "4. Tokenizar los documentos\n",
    "5. Crear por lo menos dos modelos.\n",
    "6. Evaluar los modelos (porcentaje de acierto y otras métricas de evaluación vistas en\n",
    "clase).\n",
    "A parte, el alumno/a es libre de realizar los añadidos que estime oportunos siempre que queden\n",
    "bien reflejados en la memoria de la práctica.\n",
    "La práctica se realizará en Python utilizando las librerías vistas en clase. Se puede utilizar la\n",
    "versión de Python que se quiera, indicándose al principio del código que versión se ha utilizado.\n",
    "\n",
    "**Para superar esta práctica con nota de pide:**\n",
    "1. Dividir el corpus en corpus de entrenamiento y de test (80% - 20% respectivamente).\n",
    "2. Clasificar las críticas como positivas, neutras o negativas en función de su nota (positivas\n",
    "> 6, 6 >= neutras >= 4, negativas < 4).\n",
    "3. Normalizar el texto\n",
    "4. Tokenizar los documentos\n",
    "5. Crear por lo menos dos modelos.\n",
    "6. Evaluar los modelos (porcentaje de acierto y otras métricas de evaluación vistas en\n",
    "clase).\n"
   ]
  },
  {
   "cell_type": "markdown",
   "metadata": {},
   "source": [
    "<hr>\n",
    "\n",
    "# Planteamiento"
   ]
  },
  {
   "cell_type": "markdown",
   "metadata": {},
   "source": [
    "* En el siguiente ejercicio tiene como objetivo aplicar los conocimientos vistos hasta el momento de:\n",
    "    - Normalización de textos (procesamiento de textos)\n",
    "    - Clasificación de textos\n",
    "    \n",
    "    \n",
    "* El ejercicio consiste en clasificar una serie de tweets en Español que estan clasificados como '***positivos***', '***neutros***', '***negativos***' o '***None***' (desconocido), aunque solo vamos a trabajar con los tweets clasificados correctamente (los no desconocidos).\n",
    "\n",
    "\n",
    "* Para este ejercicio se pide realizar todo el proceso de clasificación visto hasta el momento:\n",
    "    1. Carga de los datos (ya implementado en el ejercicio)\n",
    "    2. Normalización de los tweets\n",
    "    3. Creacción de la Bolsa de Palabras\n",
    "    4. Particionado de Datos\n",
    "    5. Creacción de modelos\n",
    "    6. Evaluación de los modelos\n",
    "\n",
    "\n",
    "* Los puntos del 2 al 6 son los que hay que realizar con los visto hasta el momento."
   ]
  },
  {
   "cell_type": "markdown",
   "metadata": {},
   "source": []
  },
  {
   "cell_type": "markdown",
   "metadata": {},
   "source": [
    "# Conceptos \n",
    "\n",
    "**Cada uno de estos puntos podemos aplicarlos al modelo, hay algunos que on obligatorios y necesarios, y hay otros que optimizarian el output.**\n",
    "\n",
    "### 1.- Corpus:\n",
    "\n",
    "* Un ***Corpus*** (en Latín \"cuerpo\") en el NLP se refiere a una colección de textos como pueda ser un conjunto de artículos periodísticos, libros, críticas, tweets, etc.\n",
    "\n",
    "### 2.- Bag of Words (BoW):\n",
    "\n",
    "* ***BoW*** (Bolsa de palabras) es un modelo que se utiliza para simplificar el contenido de un documento (o conjunto de documentos) omitiendo la gramática y el orden de las palabras, centrándose solo en el número de ocurrencias de palabras dentro del texto.\n",
    "\n",
    "### 3.- Normalización:\n",
    "\n",
    "* La ***normalización*** es una tarea que tiene como objetivo poner todo el texto en igualdad de condiciones:\n",
    "\n",
    "    - Convertir todo el texto en mayúscula o minúsculas\n",
    "    - Eliminar, puntos, comas, comillas, etc.\n",
    "    - Convertir los números a su equivalente a palabras\n",
    "    - Quitar palabras que no aportan significado al texto (Stop-words)\n",
    "    - Etc.\n",
    "\n",
    "### 4.- Tokenización:\n",
    "\n",
    "* Es una tarea que divide las cadenas de texto del documento en piezas más pequeñas o tokens. En la fase de tokenización los documentos se dividen en oraciones y estas se \"tokenizan\" en palabras. Aunque la tokenización es el proceso de dividir grandes cadenas de texto en cadenas más pequeñas, se suele diferenciar la:\n",
    "<span></span><br><br>\n",
    "    - ***Segmentación***: Tarea de dividir grandes cadenas de texto en piezas más pequeñas como oraciones o párrafos.\n",
    "<span></span><br><br>\n",
    "    - ***Tokenización***: Tarea de dividir grandes cadenas de texto solo y exclusivamente en palabras.\n",
    "\n",
    "\n",
    "### 5.- Stemming:\n",
    "\n",
    "* ***Stemming*** es el proceso de eliminar los afijos (sufijos, prefijos, infijos, circunflejos) de una palabra para obtener un tallo de palabra.\n",
    "<span></span><br><br>\n",
    "     + *Ejemplo*: Conduciendo -> conducir\n",
    "\n",
    "\n",
    "### 6.- Lematización:\n",
    "\n",
    "\n",
    "* La ***lematización*** es el proceso lingüístico que sustituye una palabra con forma flexionada (plurales, femeninos, verbos conjugados, etc.) por su lema; es decir, por una palabra válida en el idioma. \n",
    "\n",
    "\n",
    "* Si lo queremos definir de otra manera es sustituir una palabra con forma flexionada por la palabra que encontraríamos en el diccionario. \n",
    "<span></span><br><br>\n",
    "    + *Ejemplo*: Coches -> Coche; Guapas -> Guapo\n",
    "\n",
    "\n",
    "### 7.- Stop Words:\n",
    "\n",
    "\n",
    "* Son palabras que no aportan nada al significado de las frases como las preposiciones, determinantes, etc.\n",
    "\n",
    "\n",
    "### 8.- Parts-of-speech (POS) Tagging:\n",
    "\n",
    "\n",
    "* Consiste en asignar una etiqueta de categoría a las partes tokenizadas de una oración. El etiquetado POS más popular sería identificar palabras como sustantivos, verbos, adjetivos, etc.\n",
    "\n",
    "\n",
    "* En la lengua castellana nos podemos encontrar 9 categorías de palabras:\n",
    "\n",
    "    - Artículo o determinante \n",
    "    - Sustantivo o nombre \n",
    "    - Pronombre \n",
    "    - Verbo \n",
    "    - Adjetivo \n",
    "    - Adverbio \n",
    "    - Preposición \n",
    "    - Conjunción \n",
    "    - Interjección\n",
    "\n",
    "\n",
    "### 9.- n-grammas:\n",
    "\n",
    "\n",
    "* Los ***n-gramas*** son otro modelo de representación para simplificar los contenidos de selección de texto. \n",
    "\n",
    "\n",
    "* A diferencia de la representación sin orden de una bolsa de palabras (bag of words), el modelado de n-gramas está interesado en preservar secuencias contiguas de N elementos de la selección de texto.\n",
    "\n",
    "### 10 - ***Eliminación de ruido***: \n",
    "\n",
    "   * Este paso tiene como objetivo eliminar todos aquellos símbolos o caracteres que no aportan nada en el significado de las frases (ojo no confundir con las stop-words), como por ejemplo etiquetas HTML (para el caso del scraping), parseos de XML, JSON, etc.\n",
    "\n",
    "\n",
    "<img src=\"./imgs/007_framework_preprocesamiento_texto.png\" style=\"width: 500px;\"/>\n",
    "\n",
    "Estos 3 aspectos se suelen aplicar en el mismo modelo sin embargo no dependen de un orden.\n",
    "\n",
    "* En el siguiente ejemplo vamos a tokenizar y normalizar un texto:\n",
    "    1. Transformar un texto en tokens\n",
    "    2. Eliminar los tokens que son signos (puntuación, exclamación, etc.)\n",
    "    3. Eliminar las palabras que tienen menos de 'N' caracteres\n",
    "    4. Eliminar las palabras que son Stop Words\n",
    "    5. Pasar el texto a minúsculas\n",
    "    6. Lematización\n",
    "    \n",
    "<hr>"
   ]
  },
  {
   "cell_type": "markdown",
   "metadata": {},
   "source": [
    "# Elegir la libreria que utilizaremos:\n",
    "\n",
    "Puede ser **Spacy, Sckit-Learn o NLTK** son las mas comunes hay varias mas.\n",
    "\n",
    "Lo importante a que influye es el idioma, las funciones que tenemos de ejemplo que podemos reutilizar (notebook spacy hay muchas como def lemmatizer(words):)\n",
    "y deberian haber mas factores que impliquen usar uno antes que otro.\n"
   ]
  },
  {
   "cell_type": "markdown",
   "metadata": {},
   "source": [
    "* ***spaCy*** es una librería de código abierto en python para el Procesamiento del Lenguaje natural que posee modelos entrenados para varios idiomas, entre ellos el Español.\n",
    "\n",
    "\n",
    "* Es una librería pensada para funcionar en entornos productivos y es una librería con mejor rendimiento que **NLTK**.\n",
    "\n",
    "\n",
    "* Dispone de una web y de una documentación muy buena, incluso se pueden ejecutar ciertos ejemplos en la propia web: https://spacy.io/\n",
    "\n",
    "\n",
    "* Dispone también de un curso online (https://course.spacy.io/) bastante interesante.\n",
    "\n",
    "\n",
    "* Entre otras cosas con ***spaCy*** podemos hacer:\n",
    "    1. Tokenización\n",
    "    2. Lematización\n",
    "    3. Detección de Stop Words\n",
    "    4. Part of Speech (PoS)\n",
    "    5. Named Entity Recognition (NER)\n",
    "    \n",
    "\n",
    "* Una forma sencilla de trabajar con ***spaCy*** es:\n",
    "    1. Cargar un modelo de lenguaje (por ejemplo el Español)\n",
    "    2. Dado un texto plano, crear un objeto de la clase \"Doc\" y pasarle el texto plano. El texto ya quedará tokenizado dentro del objeto \"Doc\".\n",
    "    3. Trabajar sobre las palabras del documento.\n",
    "\n",
    "<hr>"
   ]
  },
  {
   "cell_type": "markdown",
   "metadata": {},
   "source": [
    "# Solucion"
   ]
  },
  {
   "cell_type": "code",
   "execution_count": 1,
   "metadata": {
    "scrolled": true
   },
   "outputs": [
    {
     "data": {
      "text/html": [
       "<div>\n",
       "<style scoped>\n",
       "    .dataframe tbody tr th:only-of-type {\n",
       "        vertical-align: middle;\n",
       "    }\n",
       "\n",
       "    .dataframe tbody tr th {\n",
       "        vertical-align: top;\n",
       "    }\n",
       "\n",
       "    .dataframe thead th {\n",
       "        text-align: right;\n",
       "    }\n",
       "</style>\n",
       "<table border=\"1\" class=\"dataframe\">\n",
       "  <thead>\n",
       "    <tr style=\"text-align: right;\">\n",
       "      <th></th>\n",
       "      <th>film_name</th>\n",
       "      <th>film_avg_rate</th>\n",
       "      <th>review_rate</th>\n",
       "      <th>review_title</th>\n",
       "      <th>review_text</th>\n",
       "    </tr>\n",
       "  </thead>\n",
       "  <tbody>\n",
       "    <tr>\n",
       "      <th>0</th>\n",
       "      <td>Ocho apellidos vascos</td>\n",
       "      <td>6,1</td>\n",
       "      <td>2</td>\n",
       "      <td>El perro verde</td>\n",
       "      <td>No soy un experto cinéfilo, pero pocas veces m...</td>\n",
       "    </tr>\n",
       "    <tr>\n",
       "      <th>1</th>\n",
       "      <td>Ocho apellidos vascos</td>\n",
       "      <td>6,1</td>\n",
       "      <td>2</td>\n",
       "      <td>Si no eres de comer mierda... no te comas esta...</td>\n",
       "      <td>Si no eres un incondicional del humor estilo T...</td>\n",
       "    </tr>\n",
       "    <tr>\n",
       "      <th>2</th>\n",
       "      <td>Ocho apellidos vascos</td>\n",
       "      <td>6,1</td>\n",
       "      <td>2</td>\n",
       "      <td>Aida: The movie</td>\n",
       "      <td>No sé qué está pasando, si la gente se deja ll...</td>\n",
       "    </tr>\n",
       "    <tr>\n",
       "      <th>3</th>\n",
       "      <td>Ocho apellidos vascos</td>\n",
       "      <td>6,1</td>\n",
       "      <td>2</td>\n",
       "      <td>UN HOMBRE SOLO (Julio Iglesias 1987)</td>\n",
       "      <td>\"Pero cuando amanece,y me quedo solo,siento en...</td>\n",
       "    </tr>\n",
       "    <tr>\n",
       "      <th>4</th>\n",
       "      <td>Ocho apellidos vascos</td>\n",
       "      <td>6,1</td>\n",
       "      <td>8</td>\n",
       "      <td>Iñaki el metralleta</td>\n",
       "      <td>La llegada de Rafa a Euskadi es como ponerse a...</td>\n",
       "    </tr>\n",
       "  </tbody>\n",
       "</table>\n",
       "</div>"
      ],
      "text/plain": [
       "               film_name film_avg_rate  review_rate  \\\n",
       "0  Ocho apellidos vascos           6,1            2   \n",
       "1  Ocho apellidos vascos           6,1            2   \n",
       "2  Ocho apellidos vascos           6,1            2   \n",
       "3  Ocho apellidos vascos           6,1            2   \n",
       "4  Ocho apellidos vascos           6,1            8   \n",
       "\n",
       "                                        review_title  \\\n",
       "0                                     El perro verde   \n",
       "1  Si no eres de comer mierda... no te comas esta...   \n",
       "2                                    Aida: The movie   \n",
       "3               UN HOMBRE SOLO (Julio Iglesias 1987)   \n",
       "4                                Iñaki el metralleta   \n",
       "\n",
       "                                         review_text  \n",
       "0  No soy un experto cinéfilo, pero pocas veces m...  \n",
       "1  Si no eres un incondicional del humor estilo T...  \n",
       "2  No sé qué está pasando, si la gente se deja ll...  \n",
       "3  \"Pero cuando amanece,y me quedo solo,siento en...  \n",
       "4  La llegada de Rafa a Euskadi es como ponerse a...  "
      ]
     },
     "execution_count": 1,
     "metadata": {},
     "output_type": "execute_result"
    }
   ],
   "source": [
    "import pandas as pd\n",
    "tweets_file = 'C:/Users/juanS/OneDrive/Escritorio/reviews_filmaffinity.csv'\n",
    "df = pd.read_csv(tweets_file, sep=\"\\|\\|\", names=['film_name','film_avg_rate', 'review_rate', 'review_title', 'review_text'], header=1, engine='python')\n",
    "#df = df[df['sentimiento'].isin(['positivo', 'neutro', 'negativo'])]\n",
    "#tweets = [tuple(x) for x in df.values]\n",
    "#print('Número de Tweets Cargados: {num}'.format(num=len(tweets)))\n",
    "df.head(5)"
   ]
  },
  {
   "cell_type": "code",
   "execution_count": null,
   "metadata": {},
   "outputs": [],
   "source": []
  },
  {
   "cell_type": "markdown",
   "metadata": {},
   "source": [
    "## Creamos una columna que categorize los valores de los votos por usuario"
   ]
  },
  {
   "cell_type": "code",
   "execution_count": 2,
   "metadata": {},
   "outputs": [
    {
     "data": {
      "text/plain": [
       "0       1\n",
       "1       1\n",
       "2       1\n",
       "3       1\n",
       "4       3\n",
       "       ..\n",
       "1876    3\n",
       "1877    3\n",
       "1878    3\n",
       "1879    3\n",
       "1880    1\n",
       "Name: review_rate, Length: 1881, dtype: category\n",
       "Categories (3, int64): [1 < 2 < 3]"
      ]
     },
     "execution_count": 2,
     "metadata": {},
     "output_type": "execute_result"
    }
   ],
   "source": [
    "pd.cut(df['review_rate'], bins=[0,4,6,10], labels=[1, 2, 3])"
   ]
  },
  {
   "cell_type": "code",
   "execution_count": 3,
   "metadata": {},
   "outputs": [],
   "source": [
    "df['sentiment'] = pd.cut(df['review_rate'], bins=[0,4,6,10], labels=[1, 2, 3])"
   ]
  },
  {
   "cell_type": "code",
   "execution_count": 4,
   "metadata": {},
   "outputs": [],
   "source": [
    "df2 = df.copy()"
   ]
  },
  {
   "cell_type": "code",
   "execution_count": 5,
   "metadata": {},
   "outputs": [
    {
     "data": {
      "text/html": [
       "<div>\n",
       "<style scoped>\n",
       "    .dataframe tbody tr th:only-of-type {\n",
       "        vertical-align: middle;\n",
       "    }\n",
       "\n",
       "    .dataframe tbody tr th {\n",
       "        vertical-align: top;\n",
       "    }\n",
       "\n",
       "    .dataframe thead th {\n",
       "        text-align: right;\n",
       "    }\n",
       "</style>\n",
       "<table border=\"1\" class=\"dataframe\">\n",
       "  <thead>\n",
       "    <tr style=\"text-align: right;\">\n",
       "      <th></th>\n",
       "      <th>film_name</th>\n",
       "      <th>film_avg_rate</th>\n",
       "      <th>review_text</th>\n",
       "      <th>sentiment</th>\n",
       "    </tr>\n",
       "  </thead>\n",
       "  <tbody>\n",
       "    <tr>\n",
       "      <th>0</th>\n",
       "      <td>Ocho apellidos vascos</td>\n",
       "      <td>6,1</td>\n",
       "      <td>No soy un experto cinéfilo, pero pocas veces m...</td>\n",
       "      <td>1</td>\n",
       "    </tr>\n",
       "    <tr>\n",
       "      <th>1</th>\n",
       "      <td>Ocho apellidos vascos</td>\n",
       "      <td>6,1</td>\n",
       "      <td>Si no eres un incondicional del humor estilo T...</td>\n",
       "      <td>1</td>\n",
       "    </tr>\n",
       "    <tr>\n",
       "      <th>2</th>\n",
       "      <td>Ocho apellidos vascos</td>\n",
       "      <td>6,1</td>\n",
       "      <td>No sé qué está pasando, si la gente se deja ll...</td>\n",
       "      <td>1</td>\n",
       "    </tr>\n",
       "    <tr>\n",
       "      <th>3</th>\n",
       "      <td>Ocho apellidos vascos</td>\n",
       "      <td>6,1</td>\n",
       "      <td>\"Pero cuando amanece,y me quedo solo,siento en...</td>\n",
       "      <td>1</td>\n",
       "    </tr>\n",
       "    <tr>\n",
       "      <th>4</th>\n",
       "      <td>Ocho apellidos vascos</td>\n",
       "      <td>6,1</td>\n",
       "      <td>La llegada de Rafa a Euskadi es como ponerse a...</td>\n",
       "      <td>3</td>\n",
       "    </tr>\n",
       "  </tbody>\n",
       "</table>\n",
       "</div>"
      ],
      "text/plain": [
       "               film_name film_avg_rate  \\\n",
       "0  Ocho apellidos vascos           6,1   \n",
       "1  Ocho apellidos vascos           6,1   \n",
       "2  Ocho apellidos vascos           6,1   \n",
       "3  Ocho apellidos vascos           6,1   \n",
       "4  Ocho apellidos vascos           6,1   \n",
       "\n",
       "                                         review_text sentiment  \n",
       "0  No soy un experto cinéfilo, pero pocas veces m...         1  \n",
       "1  Si no eres un incondicional del humor estilo T...         1  \n",
       "2  No sé qué está pasando, si la gente se deja ll...         1  \n",
       "3  \"Pero cuando amanece,y me quedo solo,siento en...         1  \n",
       "4  La llegada de Rafa a Euskadi es como ponerse a...         3  "
      ]
     },
     "execution_count": 5,
     "metadata": {},
     "output_type": "execute_result"
    }
   ],
   "source": [
    "# Eliminamos las variables review_rate y review_title para simplificar el modelo\n",
    "df2.drop(columns=[\"review_rate\",\"review_title\"], inplace=True)\n",
    "\n",
    "df2.head()"
   ]
  },
  {
   "cell_type": "code",
   "execution_count": 6,
   "metadata": {},
   "outputs": [
    {
     "name": "stdout",
     "output_type": "stream",
     "text": [
      "--------------------------\n",
      "probabilidad P(sentiment/total de votos)\n",
      "--------------------------\n",
      "sentiment\n",
      "3            0.459330\n",
      "1            0.298777\n",
      "2            0.241893\n",
      "dtype: float64\n"
     ]
    }
   ],
   "source": [
    "cantidad = df2[[\"sentiment\"]].value_counts()\n",
    "porcentaje = cantidad/1881\n",
    "\n",
    "print('--------------------------')\n",
    "print('probabilidad P(sentiment/total de votos)')\n",
    "print('--------------------------')\n",
    "print (porcentaje)"
   ]
  },
  {
   "cell_type": "code",
   "execution_count": 7,
   "metadata": {},
   "outputs": [
    {
     "name": "stderr",
     "output_type": "stream",
     "text": [
      "C:\\Users\\juanS\\anaconda3\\lib\\site-packages\\plotnine\\stats\\stat_bin.py:95: PlotnineWarning: 'stat_bin()' using 'bins = 7'. Pick better value with 'binwidth'.\n"
     ]
    },
    {
     "data": {
      "image/png": "[encoded data removed]",
      "text/plain": [
       "<Figure size 640x480 with 1 Axes>"
      ]
     },
     "metadata": {},
     "output_type": "display_data"
    },
    {
     "data": {
      "text/plain": [
       "<ggplot: (156201511545)>"
      ]
     },
     "execution_count": 7,
     "metadata": {},
     "output_type": "execute_result"
    }
   ],
   "source": [
    "from plotnine import *\n",
    "(\n",
    "    ggplot(df2) +\n",
    "     geom_histogram(aes(x='sentiment'), fill = 'darkgreen', color = 'blue', alpha = 0.6 )\n",
    ")"
   ]
  },
  {
   "cell_type": "code",
   "execution_count": 8,
   "metadata": {},
   "outputs": [
    {
     "data": {
      "text/html": [
       "<div>\n",
       "<style scoped>\n",
       "    .dataframe tbody tr th:only-of-type {\n",
       "        vertical-align: middle;\n",
       "    }\n",
       "\n",
       "    .dataframe tbody tr th {\n",
       "        vertical-align: top;\n",
       "    }\n",
       "\n",
       "    .dataframe thead th {\n",
       "        text-align: right;\n",
       "    }\n",
       "</style>\n",
       "<table border=\"1\" class=\"dataframe\">\n",
       "  <thead>\n",
       "    <tr style=\"text-align: right;\">\n",
       "      <th></th>\n",
       "      <th>film_name</th>\n",
       "      <th>film_avg_rate</th>\n",
       "      <th>review_rate</th>\n",
       "      <th>review_title</th>\n",
       "      <th>review_text</th>\n",
       "    </tr>\n",
       "    <tr>\n",
       "      <th>sentiment</th>\n",
       "      <th></th>\n",
       "      <th></th>\n",
       "      <th></th>\n",
       "      <th></th>\n",
       "      <th></th>\n",
       "    </tr>\n",
       "  </thead>\n",
       "  <tbody>\n",
       "    <tr>\n",
       "      <th>1</th>\n",
       "      <td>562</td>\n",
       "      <td>562</td>\n",
       "      <td>562</td>\n",
       "      <td>562</td>\n",
       "      <td>562</td>\n",
       "    </tr>\n",
       "    <tr>\n",
       "      <th>2</th>\n",
       "      <td>455</td>\n",
       "      <td>455</td>\n",
       "      <td>455</td>\n",
       "      <td>455</td>\n",
       "      <td>455</td>\n",
       "    </tr>\n",
       "    <tr>\n",
       "      <th>3</th>\n",
       "      <td>864</td>\n",
       "      <td>864</td>\n",
       "      <td>864</td>\n",
       "      <td>864</td>\n",
       "      <td>864</td>\n",
       "    </tr>\n",
       "  </tbody>\n",
       "</table>\n",
       "</div>"
      ],
      "text/plain": [
       "           film_name  film_avg_rate  review_rate  review_title  review_text\n",
       "sentiment                                                                  \n",
       "1                562            562          562           562          562\n",
       "2                455            455          455           455          455\n",
       "3                864            864          864           864          864"
      ]
     },
     "execution_count": 8,
     "metadata": {},
     "output_type": "execute_result"
    }
   ],
   "source": [
    "df.groupby(['sentiment']).count()"
   ]
  },
  {
   "cell_type": "code",
   "execution_count": 20,
   "metadata": {},
   "outputs": [
    {
     "data": {
      "text/html": [
       "<div>\n",
       "<style scoped>\n",
       "    .dataframe tbody tr th:only-of-type {\n",
       "        vertical-align: middle;\n",
       "    }\n",
       "\n",
       "    .dataframe tbody tr th {\n",
       "        vertical-align: top;\n",
       "    }\n",
       "\n",
       "    .dataframe thead th {\n",
       "        text-align: right;\n",
       "    }\n",
       "</style>\n",
       "<table border=\"1\" class=\"dataframe\">\n",
       "  <thead>\n",
       "    <tr style=\"text-align: right;\">\n",
       "      <th></th>\n",
       "      <th>film_name</th>\n",
       "      <th>film_avg_rate</th>\n",
       "      <th>review_text</th>\n",
       "    </tr>\n",
       "    <tr>\n",
       "      <th>sentiment</th>\n",
       "      <th></th>\n",
       "      <th></th>\n",
       "      <th></th>\n",
       "    </tr>\n",
       "  </thead>\n",
       "  <tbody>\n",
       "    <tr>\n",
       "      <th>1</th>\n",
       "      <td>562</td>\n",
       "      <td>562</td>\n",
       "      <td>562</td>\n",
       "    </tr>\n",
       "    <tr>\n",
       "      <th>2</th>\n",
       "      <td>455</td>\n",
       "      <td>455</td>\n",
       "      <td>455</td>\n",
       "    </tr>\n",
       "    <tr>\n",
       "      <th>3</th>\n",
       "      <td>864</td>\n",
       "      <td>864</td>\n",
       "      <td>864</td>\n",
       "    </tr>\n",
       "  </tbody>\n",
       "</table>\n",
       "</div>"
      ],
      "text/plain": [
       "           film_name  film_avg_rate  review_text\n",
       "sentiment                                       \n",
       "1                562            562          562\n",
       "2                455            455          455\n",
       "3                864            864          864"
      ]
     },
     "execution_count": 20,
     "metadata": {},
     "output_type": "execute_result"
    }
   ],
   "source": [
    "df2.groupby(['sentiment']).count()"
   ]
  },
  {
   "cell_type": "markdown",
   "metadata": {},
   "source": [
    "## La poblacion esta desvalanceado por lo tanto no podemos utilizar metricas como Accuracy. Por lo tanto nos fiamos en Presicion y Recall"
   ]
  },
  {
   "cell_type": "markdown",
   "metadata": {},
   "source": [
    "/////////////////////////////////////////////////////////////////////////////////////////////////////////////////////////////////////////////////////////////////////////////////////////////////////////////////////////////////////////"
   ]
  },
  {
   "cell_type": "markdown",
   "metadata": {},
   "source": [
    "# limpieza y preprocesamiento de los datos."
   ]
  },
  {
   "cell_type": "markdown",
   "metadata": {},
   "source": [
    "## Normalización"
   ]
  },
  {
   "cell_type": "code",
   "execution_count": 9,
   "metadata": {},
   "outputs": [
    {
     "name": "stdout",
     "output_type": "stream",
     "text": [
      "Número de Tweets Cargados: 1881\n"
     ]
    }
   ],
   "source": [
    "tweets = [tuple(x) for x in df2.values]\n",
    "print('Número de Tweets Cargados: {num}'.format(num=len(tweets)))"
   ]
  },
  {
   "cell_type": "code",
   "execution_count": 10,
   "metadata": {},
   "outputs": [
    {
     "name": "stderr",
     "output_type": "stream",
     "text": [
      "100%|██████████| 1881/1881 [00:50<00:00, 36.90it/s]\n"
     ]
    }
   ],
   "source": [
    "import spacy\n",
    "\n",
    "from tqdm import tqdm #used for creating Progress Meters or Progress Bars\n",
    "\n",
    "nlp = spacy.load('es_core_news_sm')\n",
    "\n",
    "# Divido los datos en dos listas \n",
    "#     X: los tweets\n",
    "#     y: target (polaridad)\n",
    "\n",
    "X = [doc[2] for doc in tweets]\n",
    "y = [doc[3] for doc in tweets] #???? o df2['sentiment'] = y\n",
    "\n",
    "def normalize(sentenses):\n",
    "    \"\"\"normalizamos la lista de frases y devolvemos la misma lista de frases normalizada\"\"\"\n",
    "    for index, sentense in enumerate(tqdm(sentenses)):\n",
    "        sentense = nlp(sentense.lower()) # Paso la frase a minúsculas y a un objeto de la clase Doc de Spacy\n",
    "        sentenses[index] = \" \".join([word.lemma_ for word in sentense if (not word.is_punct)\n",
    "                                     and (len(word.text) > 2) and (not word.is_stop)\n",
    "                                     and (not word.text.startswith('@'))\n",
    "                                     and (not word.text.startswith('http'))])\n",
    "    return sentenses\n",
    "\n",
    "\n",
    "\n",
    "# Normalizamos las frases\n",
    "X = normalize(X)"
   ]
  },
  {
   "cell_type": "markdown",
   "metadata": {},
   "source": [
    "**Tokenizacion**\n",
    "En el siguiente ejemplo vamos a tokenizar y normalizar un texto:\n",
    "Transformar un texto en tokens\n",
    "Eliminar los tokens que son signos (puntuación, exclamación, etc.)\n",
    "Eliminar las palabras que tienen menos de 'N' caracteres\n",
    "Eliminar las palabras que son Stop Words\n",
    "Pasar el texto a minúsculas\n",
    "Lematización"
   ]
  },
  {
   "cell_type": "markdown",
   "metadata": {},
   "source": [
    "<hr>"
   ]
  },
  {
   "cell_type": "markdown",
   "metadata": {},
   "source": [
    "**BoW** se utiliza para simplificar el contenido de un documento (o conjunto de documentos) omitiendo la gramática y el orden de las palabras, centrándose solo en el número de ocurrencias de palabras dentro del texto"
   ]
  },
  {
   "cell_type": "code",
   "execution_count": 11,
   "metadata": {},
   "outputs": [],
   "source": [
    "from sklearn.feature_extraction.text import CountVectorizer\n",
    "\n",
    "vectorizer = CountVectorizer(max_features=2000, min_df=3)\n",
    "\n",
    "# Pasamos los tweets normalizados a Bolsa de palabras\n",
    "X = vectorizer.fit_transform(X)"
   ]
  },
  {
   "cell_type": "code",
   "execution_count": 12,
   "metadata": {},
   "outputs": [
    {
     "data": {
      "text/plain": [
       "<1x2000 sparse matrix of type '<class 'numpy.int64'>'\n",
       "\twith 42 stored elements in Compressed Sparse Row format>"
      ]
     },
     "execution_count": 12,
     "metadata": {},
     "output_type": "execute_result"
    }
   ],
   "source": [
    "# el compressed sparse row format es debido al CountVectorizer\n",
    "X[1]"
   ]
  },
  {
   "cell_type": "code",
   "execution_count": 13,
   "metadata": {},
   "outputs": [
    {
     "data": {
      "text/plain": [
       "1"
      ]
     },
     "execution_count": 13,
     "metadata": {},
     "output_type": "execute_result"
    }
   ],
   "source": [
    "y[1]"
   ]
  },
  {
   "cell_type": "markdown",
   "metadata": {},
   "source": [
    "/////////////////////////////////////////////////////////////////////////////////////////////////////////////////////////////////////////////////////////////////////////////////////////////////////////////////////////////////////////"
   ]
  },
  {
   "cell_type": "markdown",
   "metadata": {
    "scrolled": true
   },
   "source": [
    "## Dividir el corpus en corpus de entrenamiento y de test (80% - 20% respectivamente)."
   ]
  },
  {
   "cell_type": "markdown",
   "metadata": {},
   "source": [
    "* Particionar los datos en conjunto de Train y Test de la siguiente manera:\n",
    "    - 80% de datos de entrenamiento\n",
    "    - 20% de datos de test"
   ]
  },
  {
   "cell_type": "code",
   "execution_count": 14,
   "metadata": {},
   "outputs": [
    {
     "name": "stdout",
     "output_type": "stream",
     "text": [
      "Número de Tweets para el entrenamiento: 1504\n",
      "Número de Tweets para el test: 377\n"
     ]
    }
   ],
   "source": [
    "from sklearn.model_selection import train_test_split  \n",
    "\n",
    "X_train, X_test, y_train, y_test = train_test_split(X, y, test_size=0.2, random_state=0)\n",
    "\n",
    "print('Número de Tweets para el entrenamiento: {num}'.format(num=X_train.shape[0]))\n",
    "print('Número de Tweets para el test: {num}'.format(num=X_test.shape[0]))"
   ]
  },
  {
   "cell_type": "markdown",
   "metadata": {},
   "source": [
    "\n",
    "## Creacción del Modelo\n",
    "\n",
    "* Vamos a crear una serie de modelos con los siguientes Algoritmos de Aprendizaje de clasificación:\n",
    "\n",
    "    - Multinomial Naive Bayes\n",
    "    - Bernoulli Naive Bayes\n",
    "    - Regresion Logistica\n",
    "    - Support Vector Machine\n",
    "    - Random Forest"
   ]
  },
  {
   "cell_type": "code",
   "execution_count": 15,
   "metadata": {},
   "outputs": [
    {
     "name": "stdout",
     "output_type": "stream",
     "text": [
      "CREANDO MODELO: Multinomial Naive Bayes\n",
      "\tAccuracy Train: 0.745345744680851\n",
      "CREANDO MODELO: Bernoulli Naive Bayes\n",
      "\tAccuracy Train: 0.6695478723404256\n",
      "CREANDO MODELO: Regresion Logistica\n",
      "\tAccuracy Train: 0.9986702127659575\n",
      "CREANDO MODELO: SVM lineal\n",
      "\tAccuracy Train: 1.0\n",
      "CREANDO MODELO: SVM rbf\n",
      "\tAccuracy Train: 0.8590425531914894\n",
      "CREANDO MODELO: Random Forest\n",
      "\tAccuracy Train: 0.988031914893617\n"
     ]
    }
   ],
   "source": [
    "from sklearn.naive_bayes import MultinomialNB, BernoulliNB\n",
    "from sklearn.linear_model import LogisticRegression\n",
    "from sklearn.svm import SVC\n",
    "from sklearn.ensemble import RandomForestClassifier\n",
    "\n",
    "mnb = MultinomialNB()\n",
    "bnb = BernoulliNB()\n",
    "lr = LogisticRegression(solver='lbfgs', multi_class='multinomial', max_iter=1000)\n",
    "svm_lin = SVC(kernel='linear')\n",
    "svm_rbf = SVC(kernel='rbf')\n",
    "rf = RandomForestClassifier(n_estimators=200, bootstrap=True, criterion='gini', max_depth=50, random_state=0)\n",
    "\n",
    "clasificadores = {'Multinomial Naive Bayes': mnb,\n",
    "                  'Bernoulli Naive Bayes': bnb,\n",
    "                  'Regresion Logistica': lr,\n",
    "                  'SVM lineal': svm_lin,\n",
    "                  'SVM rbf': svm_rbf,\n",
    "                  'Random Forest': rf}\n",
    "\n",
    "\n",
    "# Ajustamos los modelos y calculamos el accuracy para los datos de entrenamiento\n",
    "for k, v in clasificadores.items():\n",
    "    print ('CREANDO MODELO: {clas}'.format(clas=k))\n",
    "    v.fit(X_train, y_train)\n",
    "    accuracy_train = v.score(X_train, y_train)\n",
    "    print ('\\tAccuracy Train: {acc_train}'.format(acc_train=accuracy_train)) "
   ]
  },
  {
   "cell_type": "markdown",
   "metadata": {},
   "source": [
    "### El mayor resultado para los modelos es 99,8% para regresion logistica y 98,8% para Random forest"
   ]
  },
  {
   "cell_type": "markdown",
   "metadata": {},
   "source": [
    "<hr>\n",
    "\n",
    "\n",
    "## Evaluación del Modelo\n",
    "\n",
    "* Para cada uno de los modelos vamos a calcular las siguientes métricas de evaluación:\n",
    "\n",
    "    1. **Accuracy**\n",
    "    2. **Precision**\n",
    "    3. **Recall**\n",
    "    4. **F1**"
   ]
  },
  {
   "cell_type": "code",
   "execution_count": 16,
   "metadata": {},
   "outputs": [
    {
     "data": {
      "text/html": [
       "<div>\n",
       "<style scoped>\n",
       "    .dataframe tbody tr th:only-of-type {\n",
       "        vertical-align: middle;\n",
       "    }\n",
       "\n",
       "    .dataframe tbody tr th {\n",
       "        vertical-align: top;\n",
       "    }\n",
       "\n",
       "    .dataframe thead th {\n",
       "        text-align: right;\n",
       "    }\n",
       "</style>\n",
       "<table border=\"1\" class=\"dataframe\">\n",
       "  <thead>\n",
       "    <tr style=\"text-align: right;\">\n",
       "      <th></th>\n",
       "      <th>accuracy_train</th>\n",
       "      <th>accuracy_tests</th>\n",
       "      <th>precision_train</th>\n",
       "      <th>precision_tests</th>\n",
       "      <th>recall_train</th>\n",
       "      <th>recall_tests</th>\n",
       "      <th>f1_train</th>\n",
       "      <th>f1_tests</th>\n",
       "    </tr>\n",
       "    <tr>\n",
       "      <th>name</th>\n",
       "      <th></th>\n",
       "      <th></th>\n",
       "      <th></th>\n",
       "      <th></th>\n",
       "      <th></th>\n",
       "      <th></th>\n",
       "      <th></th>\n",
       "      <th></th>\n",
       "    </tr>\n",
       "  </thead>\n",
       "  <tbody>\n",
       "    <tr>\n",
       "      <th>Multinomial Naive Bayes</th>\n",
       "      <td>0.745346</td>\n",
       "      <td>0.620690</td>\n",
       "      <td>0.750620</td>\n",
       "      <td>0.617358</td>\n",
       "      <td>0.745346</td>\n",
       "      <td>0.620690</td>\n",
       "      <td>0.745005</td>\n",
       "      <td>0.618823</td>\n",
       "    </tr>\n",
       "    <tr>\n",
       "      <th>Bernoulli Naive Bayes</th>\n",
       "      <td>0.669548</td>\n",
       "      <td>0.599469</td>\n",
       "      <td>0.686122</td>\n",
       "      <td>0.593193</td>\n",
       "      <td>0.669548</td>\n",
       "      <td>0.599469</td>\n",
       "      <td>0.665815</td>\n",
       "      <td>0.592586</td>\n",
       "    </tr>\n",
       "    <tr>\n",
       "      <th>Regresion Logistica</th>\n",
       "      <td>0.998670</td>\n",
       "      <td>0.588859</td>\n",
       "      <td>0.998674</td>\n",
       "      <td>0.583181</td>\n",
       "      <td>0.998670</td>\n",
       "      <td>0.588859</td>\n",
       "      <td>0.998669</td>\n",
       "      <td>0.583546</td>\n",
       "    </tr>\n",
       "    <tr>\n",
       "      <th>SVM lineal</th>\n",
       "      <td>1.000000</td>\n",
       "      <td>0.562334</td>\n",
       "      <td>1.000000</td>\n",
       "      <td>0.570566</td>\n",
       "      <td>1.000000</td>\n",
       "      <td>0.562334</td>\n",
       "      <td>1.000000</td>\n",
       "      <td>0.566115</td>\n",
       "    </tr>\n",
       "    <tr>\n",
       "      <th>SVM rbf</th>\n",
       "      <td>0.859043</td>\n",
       "      <td>0.575597</td>\n",
       "      <td>0.877932</td>\n",
       "      <td>0.536817</td>\n",
       "      <td>0.859043</td>\n",
       "      <td>0.575597</td>\n",
       "      <td>0.851233</td>\n",
       "      <td>0.511945</td>\n",
       "    </tr>\n",
       "    <tr>\n",
       "      <th>Random Forest</th>\n",
       "      <td>0.988032</td>\n",
       "      <td>0.596817</td>\n",
       "      <td>0.988327</td>\n",
       "      <td>0.581784</td>\n",
       "      <td>0.988032</td>\n",
       "      <td>0.596817</td>\n",
       "      <td>0.988031</td>\n",
       "      <td>0.548315</td>\n",
       "    </tr>\n",
       "  </tbody>\n",
       "</table>\n",
       "</div>"
      ],
      "text/plain": [
       "                         accuracy_train  accuracy_tests  precision_train  \\\n",
       "name                                                                       \n",
       "Multinomial Naive Bayes        0.745346        0.620690         0.750620   \n",
       "Bernoulli Naive Bayes          0.669548        0.599469         0.686122   \n",
       "Regresion Logistica            0.998670        0.588859         0.998674   \n",
       "SVM lineal                     1.000000        0.562334         1.000000   \n",
       "SVM rbf                        0.859043        0.575597         0.877932   \n",
       "Random Forest                  0.988032        0.596817         0.988327   \n",
       "\n",
       "                         precision_tests  recall_train  recall_tests  \\\n",
       "name                                                                   \n",
       "Multinomial Naive Bayes         0.617358      0.745346      0.620690   \n",
       "Bernoulli Naive Bayes           0.593193      0.669548      0.599469   \n",
       "Regresion Logistica             0.583181      0.998670      0.588859   \n",
       "SVM lineal                      0.570566      1.000000      0.562334   \n",
       "SVM rbf                         0.536817      0.859043      0.575597   \n",
       "Random Forest                   0.581784      0.988032      0.596817   \n",
       "\n",
       "                         f1_train  f1_tests  \n",
       "name                                         \n",
       "Multinomial Naive Bayes  0.745005  0.618823  \n",
       "Bernoulli Naive Bayes    0.665815  0.592586  \n",
       "Regresion Logistica      0.998669  0.583546  \n",
       "SVM lineal               1.000000  0.566115  \n",
       "SVM rbf                  0.851233  0.511945  \n",
       "Random Forest            0.988031  0.548315  "
      ]
     },
     "execution_count": 16,
     "metadata": {},
     "output_type": "execute_result"
    }
   ],
   "source": [
    "import warnings\n",
    "warnings.filterwarnings(\"ignore\")\n",
    "from sklearn.metrics import accuracy_score,precision_score, recall_score, f1_score\n",
    "\n",
    "def evaluation(model, name, X_train, y_train, X_test, y_test):\n",
    "    \"\"\"\n",
    "    Función de devuelve en un diccionario las métricas de evaluación de \n",
    "    Accuracy, Precision, Recall y F1 para los conjuntos de datos de entrenamiento y test\n",
    "        model: modelo a evaluar\n",
    "        name: nombre del modelo\n",
    "        X_train: Variables de entrada del conjunto de datos de entrenamiento\n",
    "        y_train: Variable de salida del conjunto de datos de entrenamiento\n",
    "        X_test: Variables de entrada del conjunto de datos de test\n",
    "        y_test: Variable de salida del conjunto de datos de test\n",
    "        return: diccionario con el nombre del modelo y el valor de las métricas\n",
    "    \"\"\"\n",
    "    model_dict = {}\n",
    "    model_dict['name'] = name\n",
    "    y_pred_train = model.predict(X_train)\n",
    "    y_pred_test = model.predict(X_test)\n",
    "    model_dict['accuracy_train'] = accuracy_score(y_true=y_train, y_pred=y_pred_train)\n",
    "    model_dict['accuracy_tests'] = accuracy_score(y_true=y_test, y_pred=y_pred_test)\n",
    "    model_dict['precision_train'] = precision_score(y_true=y_train, y_pred=y_pred_train, average='weighted')\n",
    "    model_dict['precision_tests'] = precision_score(y_true=y_test, y_pred=y_pred_test, average='weighted')\n",
    "    model_dict['recall_train'] = recall_score(y_true=y_train, y_pred=y_pred_train, average='weighted')\n",
    "    model_dict['recall_tests'] = recall_score(y_true=y_test, y_pred=y_pred_test, average='weighted')\n",
    "    model_dict['f1_train'] = f1_score(y_true=y_train, y_pred=y_pred_train, average='weighted')\n",
    "    model_dict['f1_tests'] = f1_score(y_true=y_test, y_pred=y_pred_test, average='weighted')\n",
    "    \n",
    "    return model_dict\n",
    "\n",
    "\n",
    "# Calculamos las métricas de los modelos por separado\n",
    "evaluacion = list()\n",
    "for key, model in clasificadores.items():\n",
    "    evaluacion.append(evaluation(model=model, name=key, \n",
    "                                 X_train=X_train, y_train=y_train,\n",
    "                                 X_test=X_test, y_test=y_test))\n",
    "\n",
    "# Pasamos los resultados a un DataFrame para visualizarlos mejor\n",
    "results = pd.DataFrame.from_dict(evaluacion)\n",
    "results.set_index(\"name\", inplace=True)\n",
    "results"
   ]
  },
  {
   "cell_type": "markdown",
   "metadata": {},
   "source": [
    "* Representamos las métricas para los diferentes modelos en un gráfico de barras:"
   ]
  },
  {
   "cell_type": "code",
   "execution_count": 17,
   "metadata": {
    "scrolled": true
   },
   "outputs": [
    {
     "data": {
      "image/png": "[encoded data removed]",
      "text/plain": [
       "<Figure size 1800x864 with 4 Axes>"
      ]
     },
     "metadata": {
      "needs_background": "light"
     },
     "output_type": "display_data"
    }
   ],
   "source": [
    "import matplotlib.pyplot as plt\n",
    "import seaborn as sns\n",
    "%matplotlib inline\n",
    "\n",
    "# Métricas a pintar\n",
    "METRICS = [\"accuracy\", \"precision\", \"recall\", \"f1\"]\n",
    "\n",
    "# Transformamos el dataframe para pintar las gráficas con seaborn\n",
    "df_plot = results.reset_index().melt(id_vars='name').rename(columns=str.title)\n",
    "\n",
    "plt.figure(figsize=(25, 12))\n",
    "pos = 1\n",
    "for metric in METRICS:\n",
    "    # Filtramos la métrica a pintar\n",
    "    df_aux = df_plot[df_plot['Variable'].str.contains(metric)]\n",
    "    \n",
    "    # Pintamos la gráfica en su posición 2x2\n",
    "    plt.subplot(2, 2, pos)\n",
    "    sns.barplot(x='Name', y='Value', hue='Variable', data=df_aux)\n",
    "    plt.title(metric.upper())\n",
    "    plt.grid()\n",
    "    plt.legend(bbox_to_anchor=(1.01, 1), loc=2, borderaxespad=0.)\n",
    "    plt.xticks(rotation=20)\n",
    "    pos += 1\n",
    "plt.show()"
   ]
  },
  {
   "cell_type": "markdown",
   "metadata": {},
   "source": [
    "# Los resultados de validacion no difieren tanto si comparamos el accuracy obtenido en el conjunto de test frente a los del conjunto train. \n",
    "\n",
    "# Aun podemos decir que la precicion no es lo mejor pero es suficiente para el conjunto de datos que tenemos. Vamos a proceder a la evaluacion de los metodos para entender mejor el resultado."
   ]
  },
  {
   "cell_type": "markdown",
   "metadata": {},
   "source": [
    "* Vamos a dibujar las matrices de confusión obtenidas para cada uno de los modelos creados:"
   ]
  },
  {
   "cell_type": "markdown",
   "metadata": {},
   "source": [
    "* Para los problemas de Clasificación se utilizan (entre otros) las siguientes métricas de evaluación:\n",
    "\n",
    "    - ***Accuracy***\n",
    "    - ***Precision***\n",
    "    - ***Recall***\n",
    "    - ***Specificity***\n",
    "    - ***F-score***\n",
    "    - ***Curva ROC***\n",
    "    -  ***ROC_AUC: Área sobre la curva ROC***\n",
    "\n",
    "\n",
    "* Para ver como clasifica el modelo generado usamos la denominada ***“Matriz de Confusión”*** en la cual se muestra el número de elementos que clasifica como verdaderos y falsos positivos y verdaderos y falsos negativos."
   ]
  },
  {
   "cell_type": "code",
   "execution_count": 18,
   "metadata": {
    "code_folding": [],
    "scrolled": true
   },
   "outputs": [
    {
     "name": "stdout",
     "output_type": "stream",
     "text": [
      "Obteniendo Matriz de Confusión de: Multinomial Naive Bayes\n",
      "Obteniendo Matriz de Confusión de: Bernoulli Naive Bayes\n",
      "Obteniendo Matriz de Confusión de: Regresion Logistica\n",
      "Obteniendo Matriz de Confusión de: SVM lineal\n",
      "Obteniendo Matriz de Confusión de: SVM rbf\n",
      "Obteniendo Matriz de Confusión de: Random Forest\n"
     ]
    },
    {
     "data": {
      "image/png": "[encoded data removed]",
      "text/plain": [
       "<Figure size 1440x2520 with 23 Axes>"
      ]
     },
     "metadata": {
      "needs_background": "light"
     },
     "output_type": "display_data"
    }
   ],
   "source": [
    "import numpy as np\n",
    "import matplotlib.pyplot as plt\n",
    "import itertools\n",
    "%matplotlib inline\n",
    "\n",
    "from sklearn.metrics import confusion_matrix\n",
    "\n",
    "sentiment = [1, 2, 3]\n",
    "\n",
    "# Obtenemos las Matrices de confusión\n",
    "msc = list()\n",
    "for k, v in clasificadores.items():\n",
    "    print ('Obteniendo Matriz de Confusión de: {model}'.format(model=k))\n",
    "    model = {}\n",
    "    model['name'] = k\n",
    "    y_pred_train = v.predict(X_train)\n",
    "    y_pred_test = v.predict(X_test)\n",
    "    model['confusion_matrix_train'] = confusion_matrix(y_true=y_train, y_pred=y_pred_train, labels=sentiment)\n",
    "    model['confusion_matrix_test'] = confusion_matrix(y_true=y_test, y_pred=y_pred_test, labels=sentiment)\n",
    "    msc.append(model)\n",
    "\n",
    "    \n",
    "# Definimos el heatmap de la matriz de confusión\n",
    "def plot_confusion_matrix(cm, classes, title, cmap=plt.cm.Greens):\n",
    "    \"\"\"\n",
    "    This function prints and plots the confusion matrix.\n",
    "    \"\"\"\n",
    "    plt.imshow(cm, interpolation='nearest', cmap=cmap)\n",
    "    plt.title(title)\n",
    "    plt.colorbar()\n",
    "    tick_marks = np.arange(len(classes))\n",
    "    plt.xticks(tick_marks, classes, rotation=45)\n",
    "    plt.yticks(tick_marks, classes)\n",
    "\n",
    "    thresh = cm.max() / 2.\n",
    "    for i, j in itertools.product(range(cm.shape[0]), range(cm.shape[1])):\n",
    "        plt.text(j, i, format(cm[i, j], 'd'), horizontalalignment=\"center\",\n",
    "                 color=\"white\" if cm[i, j] > thresh else \"black\")\n",
    "\n",
    "    plt.tight_layout()\n",
    "    plt.ylabel('True label')\n",
    "    plt.xlabel('Predicted label')\n",
    "    \n",
    "\n",
    "# Pintamos las matrices de confusión\n",
    "plt.figure(figsize=(20, 35))\n",
    "pos = 0\n",
    "for mc in msc:\n",
    "    pos += 1\n",
    "    plt.subplot(6, 2, pos)\n",
    "    plot_confusion_matrix(mc['confusion_matrix_train'], classes=sentiment, \n",
    "                          title='{}\\nMatriz de Confusión Datos Entrenamiento'.format(mc['name']))\n",
    "    pos += 1\n",
    "    plt.subplot(6, 2, pos)\n",
    "    plot_confusion_matrix(mc['confusion_matrix_test'], classes=sentiment, \n",
    "                          title='{}\\nMatriz de Confusión Datos Tests'.format(mc['name'] ))\n",
    "plt.show()"
   ]
  },
  {
   "cell_type": "markdown",
   "metadata": {},
   "source": [
    "# Los metodos de clasificacion Naive Bayes tanto el multinomial como el gaussiano me dan mejores resultados en la matriz de confusion, al clasificar negativos y neutros. Los demas modelos bajan la calidad al clasificar estos dos caracteristicas. "
   ]
  },
  {
   "cell_type": "markdown",
   "metadata": {},
   "source": [
    "## - Matriz de confusión\n",
    "\n",
    "* Cuando hablamos de clasificación tenemos que medir cuanto hemos acertado y como lo hemos acertado, por ello las ***matrices de confusión nos ayudan a ver el acierto o fallo que tiene nuestro modelo a la hora de clasificar***. La matriz de confusión tiene la siguiente forma:\n",
    "\n",
    "    - **True Positive (TP)**: Valores positivos clasificados como positivos\n",
    "    - **True Negative (TN)**: Valores negativos clasificados como negativos\n",
    "    - **False Positive (FP)**: Valores negativos clasificados como positivos\n",
    "    - **False Negative (FN)**: Valore positivos clasificados como negativos\n",
    "    \n",
    "<img src=\"./imgs/011_Matriz_Confusion.png\" style=\"width: 400px;\"/>\n",
    "\n",
    "\n",
    "## - Accuracy\n",
    "\n",
    "* Indica el porcentaje de acierto:\n",
    "\n",
    "$$Acuracy = \\frac{TP + TN}{TP + FN + FP + TN}$$\n",
    "\n",
    "## - Precision\n",
    "\n",
    "* Los positivos correctamente pronosticados entre todos los ejemplos pronosticados como positivos. \n",
    "\n",
    "\n",
    "* \"***De lo que hemos pronosticado, cuanto hemos acertado***\"\n",
    "\n",
    "\n",
    "$$Precision = \\frac{TP}{TP + FP}$$\n",
    "\n",
    "\n",
    "<img src=\"./imgs/012_Matriz_Confusion_precision.png\" style=\"width: 400px;\"/>\n",
    "                                                               \n",
    "                                                               \n",
    "\n",
    "## - Recall\n",
    "\n",
    "\n",
    "* Los positivos correctamente pronosticados, entre todos los ejemplos que son positivos. \n",
    "\n",
    "\n",
    "* \"***De lo que hay en realidad, cuanto hemos acertado***\"\n",
    "\n",
    "\n",
    "$$Recall = \\frac{TP}{TP + FN}$$\n",
    "\n",
    "\n",
    "<img src=\"./imgs/013_Matriz_Confusion_recall.png\" style=\"width: 400px;\"/>\n",
    "\n",
    "\n",
    "## - Specificity\n",
    "\n",
    "\n",
    "* Los negativos correctamente pronosticados, entre todos los ejemplos que son negativos. \n",
    "\n",
    "\n",
    "$$Specificity = \\frac{TN}{TN + FP} = \\frac{TN}{Negative}$$\n",
    "\n",
    "\n",
    "<img src=\"./imgs/021_eval.png\" style=\"width: 400px;\"/>\n",
    "\n",
    "\n",
    "## - F-Score (Precision-Recall)\n",
    "\n",
    "\n",
    "* Es una media que ***combina la precisión y el recall con la media armonica de ambas medidas***. \n",
    "\n",
    "\n",
    "* Si es cercano a ***1*** significa que la clasificación realizada es buena. \n",
    "\n",
    "\n",
    "* Si es cercano a ***0*** la clasificación realizada es mala.\n",
    "\n",
    "\n",
    "* Se utiliza la media armonica, porque esta penaliza el hecho de que uno de los dos valores(el Precision o el Recall) tenga un valor bajo.\n",
    "\n",
    "\n",
    "* El ***F1*** o ***F-score*** (siendo $score=1$) se calcula de la siguiente manera:\n",
    "\n",
    "\n",
    "$$F1 = 2 \\cdot \\frac{Precision \\cdot Recall}{Precision + Recall}$$\n",
    "\n",
    "\n",
    "* Esta medida en realidad debería de llamarse $F_\\beta$ calculandose de la siguiente manera:\n",
    "\n",
    "$$F_\\beta =  \\frac{(1+\\beta^2) \\cdot Precision \\cdot Recall}{\\beta^2 \\cdot Precision + Recall}$$\n",
    "\n",
    "\n",
    "* En función del valor que le demos a $F_\\beta$ la media armónica dará más importancia a la Precision o al Recall; por ejemplo:\n",
    "\n",
    "    + $F_{0}$: Es el Recall.\n",
    "    + $F_{0.5}$: Da más peso a la Precision que al Recall.\n",
    "    + $F_{1}$: Asigna el mismo peso a la Precision que al Recall.\n",
    "    + $F_{2}$: Da más peso a la Recall que a la Precision.\n",
    "    + $F_{\\infty}$: Es la Precision.\n",
    "    \n",
    "    \n",
    "* ***La medida del F-Score es conocida como la medida F1 porque de esta manera se calcula la media armónica entre la Precision y el Recall otorgando a ambas el mismo peso.***"
   ]
  },
  {
   "cell_type": "markdown",
   "metadata": {},
   "source": [
    "## Curva ROC"
   ]
  },
  {
   "cell_type": "markdown",
   "metadata": {},
   "source": [
    "* La tasa de falsos positivos se calcula como el número de positivos verdaderos divididos entre el número de positivos verdaderos y de falsos negativos. Describe cómo de bueno es nuestro modelo prediciendo las clases positivas cuando la salida real es positiva. También se conoce esta tasa como sensibilidad. \n",
    "\n",
    "* La especificidad es la inversa de la tasa de falsos positivos. Se obtiene dividiendo el número total de verdaderos negativos entre la suma de los verdaderos negativos y los falsos positivos\n",
    "\n",
    "* El valor AUC se utiliza como resumen del rendimiento del modelo. Cuanto más esté hacia la izquierda la curva, más área habrá contenida bajo ella y por ende, mejor será el clasificador"
   ]
  },
  {
   "cell_type": "markdown",
   "metadata": {},
   "source": [
    "* Ejemplo de métrica de características operativas del receptor (ROC) para evaluar la calidad de salida del clasificador.\n",
    "\n",
    "Las curvas ROC suelen presentar una tasa de verdaderos positivos en el eje Y y una tasa de falsos positivos en el eje X. Esto significa que la esquina superior izquierda de la gráfica es el punto \"ideal\": una tasa de falsos positivos de cero y una tasa de verdaderos positivos de uno. Esto no es muy realista, pero significa que un área bajo la curva (AUC) más grande suele ser mejor.\n",
    "\n",
    "La \"inclinación\" de las curvas ROC también es importante, ya que es ideal para maximizar la tasa de verdaderos positivos y minimizar la tasa de falsos positivos.\n",
    "\n",
    "**Las curvas ROC se utilizan normalmente en la clasificación binaria para estudiar la salida de un clasificador. Para extender la curva ROC y el área ROC a la clasificación de etiquetas múltiples, es necesario binarizar la salida.** Se puede dibujar una curva ROC por etiqueta, pero también se puede dibujar una curva ROC considerando cada elemento de la matriz del indicador de la etiqueta como una predicción binaria (micropromedio).\n",
    "\n",
    "Otra medida de evaluación para la clasificación de etiquetas múltiples es el macropromedio, que otorga el mismo peso a la clasificación de cada etiqueta."
   ]
  },
  {
   "cell_type": "code",
   "execution_count": 19,
   "metadata": {
    "scrolled": true
   },
   "outputs": [
    {
     "ename": "ValueError",
     "evalue": "multiclass format is not supported",
     "output_type": "error",
     "traceback": [
      "\u001b[1;31m---------------------------------------------------------------------------\u001b[0m",
      "\u001b[1;31mValueError\u001b[0m                                Traceback (most recent call last)",
      "\u001b[1;32m<ipython-input-19-af24a2dafd41>\u001b[0m in \u001b[0;36m<module>\u001b[1;34m\u001b[0m\n\u001b[0;32m     20\u001b[0m \u001b[1;33m\u001b[0m\u001b[0m\n\u001b[0;32m     21\u001b[0m \u001b[1;31m# Obtenemos Tasa de Verdaderos Positivos (TPR), Tasa de Falsos Positivos (FPR) y el umbral\u001b[0m\u001b[1;33m\u001b[0m\u001b[1;33m\u001b[0m\u001b[1;33m\u001b[0m\u001b[0m\n\u001b[1;32m---> 22\u001b[1;33m \u001b[0mbase_fpr\u001b[0m\u001b[1;33m,\u001b[0m \u001b[0mbase_tpr\u001b[0m\u001b[1;33m,\u001b[0m \u001b[0mbase_thresholds\u001b[0m \u001b[1;33m=\u001b[0m \u001b[0mroc_curve\u001b[0m\u001b[1;33m(\u001b[0m\u001b[0my\u001b[0m\u001b[1;33m,\u001b[0m \u001b[0mX_base_prob\u001b[0m\u001b[1;33m)\u001b[0m\u001b[1;33m\u001b[0m\u001b[1;33m\u001b[0m\u001b[0m\n\u001b[0m\u001b[0;32m     23\u001b[0m \u001b[0mclf_fpr\u001b[0m\u001b[1;33m,\u001b[0m \u001b[0mclf_tpr\u001b[0m\u001b[1;33m,\u001b[0m \u001b[0mclf_thresholds\u001b[0m \u001b[1;33m=\u001b[0m \u001b[0mroc_curve\u001b[0m\u001b[1;33m(\u001b[0m\u001b[0my\u001b[0m\u001b[1;33m,\u001b[0m \u001b[0mX_probs\u001b[0m\u001b[1;33m[\u001b[0m\u001b[1;33m:\u001b[0m\u001b[1;33m,\u001b[0m \u001b[1;36m1\u001b[0m\u001b[1;33m]\u001b[0m\u001b[1;33m)\u001b[0m\u001b[1;33m\u001b[0m\u001b[1;33m\u001b[0m\u001b[0m\n\u001b[0;32m     24\u001b[0m \u001b[1;33m\u001b[0m\u001b[0m\n",
      "\u001b[1;32m~\\anaconda3\\lib\\site-packages\\sklearn\\utils\\validation.py\u001b[0m in \u001b[0;36minner_f\u001b[1;34m(*args, **kwargs)\u001b[0m\n\u001b[0;32m     61\u001b[0m             \u001b[0mextra_args\u001b[0m \u001b[1;33m=\u001b[0m \u001b[0mlen\u001b[0m\u001b[1;33m(\u001b[0m\u001b[0margs\u001b[0m\u001b[1;33m)\u001b[0m \u001b[1;33m-\u001b[0m \u001b[0mlen\u001b[0m\u001b[1;33m(\u001b[0m\u001b[0mall_args\u001b[0m\u001b[1;33m)\u001b[0m\u001b[1;33m\u001b[0m\u001b[1;33m\u001b[0m\u001b[0m\n\u001b[0;32m     62\u001b[0m             \u001b[1;32mif\u001b[0m \u001b[0mextra_args\u001b[0m \u001b[1;33m<=\u001b[0m \u001b[1;36m0\u001b[0m\u001b[1;33m:\u001b[0m\u001b[1;33m\u001b[0m\u001b[1;33m\u001b[0m\u001b[0m\n\u001b[1;32m---> 63\u001b[1;33m                 \u001b[1;32mreturn\u001b[0m \u001b[0mf\u001b[0m\u001b[1;33m(\u001b[0m\u001b[1;33m*\u001b[0m\u001b[0margs\u001b[0m\u001b[1;33m,\u001b[0m \u001b[1;33m**\u001b[0m\u001b[0mkwargs\u001b[0m\u001b[1;33m)\u001b[0m\u001b[1;33m\u001b[0m\u001b[1;33m\u001b[0m\u001b[0m\n\u001b[0m\u001b[0;32m     64\u001b[0m \u001b[1;33m\u001b[0m\u001b[0m\n\u001b[0;32m     65\u001b[0m             \u001b[1;31m# extra_args > 0\u001b[0m\u001b[1;33m\u001b[0m\u001b[1;33m\u001b[0m\u001b[1;33m\u001b[0m\u001b[0m\n",
      "\u001b[1;32m~\\anaconda3\\lib\\site-packages\\sklearn\\metrics\\_ranking.py\u001b[0m in \u001b[0;36mroc_curve\u001b[1;34m(y_true, y_score, pos_label, sample_weight, drop_intermediate)\u001b[0m\n\u001b[0;32m    911\u001b[0m \u001b[1;33m\u001b[0m\u001b[0m\n\u001b[0;32m    912\u001b[0m     \"\"\"\n\u001b[1;32m--> 913\u001b[1;33m     fps, tps, thresholds = _binary_clf_curve(\n\u001b[0m\u001b[0;32m    914\u001b[0m         y_true, y_score, pos_label=pos_label, sample_weight=sample_weight)\n\u001b[0;32m    915\u001b[0m \u001b[1;33m\u001b[0m\u001b[0m\n",
      "\u001b[1;32m~\\anaconda3\\lib\\site-packages\\sklearn\\metrics\\_ranking.py\u001b[0m in \u001b[0;36m_binary_clf_curve\u001b[1;34m(y_true, y_score, pos_label, sample_weight)\u001b[0m\n\u001b[0;32m    689\u001b[0m     if not (y_type == \"binary\" or\n\u001b[0;32m    690\u001b[0m             (y_type == \"multiclass\" and pos_label is not None)):\n\u001b[1;32m--> 691\u001b[1;33m         \u001b[1;32mraise\u001b[0m \u001b[0mValueError\u001b[0m\u001b[1;33m(\u001b[0m\u001b[1;34m\"{0} format is not supported\"\u001b[0m\u001b[1;33m.\u001b[0m\u001b[0mformat\u001b[0m\u001b[1;33m(\u001b[0m\u001b[0my_type\u001b[0m\u001b[1;33m)\u001b[0m\u001b[1;33m)\u001b[0m\u001b[1;33m\u001b[0m\u001b[1;33m\u001b[0m\u001b[0m\n\u001b[0m\u001b[0;32m    692\u001b[0m \u001b[1;33m\u001b[0m\u001b[0m\n\u001b[0;32m    693\u001b[0m     \u001b[0mcheck_consistent_length\u001b[0m\u001b[1;33m(\u001b[0m\u001b[0my_true\u001b[0m\u001b[1;33m,\u001b[0m \u001b[0my_score\u001b[0m\u001b[1;33m,\u001b[0m \u001b[0msample_weight\u001b[0m\u001b[1;33m)\u001b[0m\u001b[1;33m\u001b[0m\u001b[1;33m\u001b[0m\u001b[0m\n",
      "\u001b[1;31mValueError\u001b[0m: multiclass format is not supported"
     ]
    }
   ],
   "source": [
    "from sklearn.datasets import make_classification\n",
    "from sklearn.linear_model import LogisticRegression\n",
    "from sklearn.metrics import roc_curve, roc_auc_score\n",
    "import matplotlib.pyplot as plt\n",
    "%matplotlib inline\n",
    "\n",
    "## Generamos un conjunto de datos de prueba con 2 clases\n",
    "#X, y = make_classification(n_samples=1000, n_classes=2, random_state=1)\n",
    "\n",
    "#X_train, X_test, y_train, y_test\n",
    "\n",
    "# Creamos un Clasificador y calculamos las probabilidades de cada elemento\n",
    "clf = LogisticRegression()\n",
    "clf.fit(X, y)\n",
    "X_probs = clf.predict_proba(X)\n",
    "\n",
    "# Clasificador base: Clasificador con probabilidad de todos los elementos a cero\n",
    "X_base_prob = [0 for i in range(len(y))]\n",
    "\n",
    "\n",
    "# Obtenemos Tasa de Verdaderos Positivos (TPR), Tasa de Falsos Positivos (FPR) y el umbral\n",
    "base_fpr, base_tpr, base_thresholds = roc_curve(y, X_base_prob)\n",
    "clf_fpr, clf_tpr, clf_thresholds = roc_curve(y, X_probs[:, 1])\n",
    "\n",
    "# Calculamos el Área bajo la curva\n",
    "base_auc = roc_auc_score(y, X_base_prob)\n",
    "clf_auc = roc_auc_score(y, X_probs[:, 1])\n",
    "\n",
    "# Pintamos la curva ROC\n",
    "plt.plot(clf_fpr, clf_tpr, label='Clasificador - ROC AUC = {:0.2f}'.format(clf_auc))\n",
    "plt.plot(base_fpr, base_tpr, linestyle='--', label='Clasificador Base - ROC AUC = {:0.2f}'.format(base_auc))\n",
    "plt.xlabel('False Positive Rate')\n",
    "plt.ylabel('True Positive Rate')\n",
    "plt.legend()\n",
    "plt.show()"
   ]
  },
  {
   "cell_type": "code",
   "execution_count": null,
   "metadata": {},
   "outputs": [],
   "source": [
    "from sklearn.tree import DecisionTreeClassifier\n",
    "from sklearn.ensemble import BaggingClassifier\n",
    "from sklearn.metrics import confusion_matrix,zero_one_loss\n",
    "from sklearn.metrics import classification_report,matthews_corrcoef,accuracy_score\n",
    "from sklearn.metrics import roc_auc_score, auc\n",
    "\n",
    "\n",
    "\n",
    "# Binarize the output\n",
    "y = label_binarize(y, classes=[0, 1, 2])\n",
    "n_classes = y.shape[1]\n",
    "\n",
    "# Add noisy features to make the problem harder\n",
    "random_state = np.random.RandomState(0)\n",
    "n_samples, n_features = X.shape\n",
    "X = np.c_[X, random_state.randn(n_samples, 1881 * n_features)]\n",
    "\n",
    "# shuffle and split training and test sets\n",
    "X_train, X_test, y_train, y_test = train_test_split(X, y, test_size=0.2, random_state=0) #\n",
    "\n",
    "#X_train, X_test, y_train, y_test\n",
    "\n",
    "dtc = DecisionTreeClassifier()\n",
    "bc = BaggingClassifier(base_estimator=dtc, n_estimators=10, random_state=17)\n",
    "bc.fit(X_train, y_train)\n",
    "pred_y = bc.predict(X_test)\n",
    "\n",
    "fprate, tprate, thresholds = roc_curve(y_test, pred_y)\n",
    "results = confusion_matrix(y_test, pred_y)\n",
    "error = zero_one_loss(y_test, pred_y)\n",
    "roc_auc_score(y_test, pred_y)\n",
    "\n",
    "FP = results.sum(axis=0) - np.diag(results)  \n",
    "FN = results.sum(axis=1) - np.diag(results)\n",
    "TP = np.diag(results)\n",
    "TN = results.sum() - (FP + FN + TP)\n",
    "\n",
    "\n",
    "\n",
    "print('\\n Time Processing: \\n',time.process_time())\n",
    "print('\\n Confussion Matrix: \\n', results)\n",
    "print('\\n Zero-one classification loss: \\n', error)\n",
    "print('\\n True Positive: \\n', TP)\n",
    "print('\\n True Negative: \\n', TN)\n",
    "print('\\n False Positive: \\n', FP)\n",
    "print('\\n False Negative: \\n', FN)\n",
    "print ('\\n The Classification report:\\n',classification_report(test_Y,pred_y, digits=6))\n",
    "print ('MCC:', matthews_corrcoef(test_Y,pred_y))\n",
    "print ('Accuracy:', accuracy_score(test_Y,pred_y))\n",
    "print (auc(fprate, tprate))\n",
    "print ('ROC Score:', roc_auc_score(test_Y,pred_y))"
   ]
  },
  {
   "cell_type": "code",
   "execution_count": 22,
   "metadata": {},
   "outputs": [
    {
     "ename": "IndexError",
     "evalue": "tuple index out of range",
     "output_type": "error",
     "traceback": [
      "\u001b[1;31m---------------------------------------------------------------------------\u001b[0m",
      "\u001b[1;31mIndexError\u001b[0m                                Traceback (most recent call last)",
      "\u001b[1;32m<ipython-input-22-d53433e0cd2a>\u001b[0m in \u001b[0;36m<module>\u001b[1;34m\u001b[0m\n\u001b[0;32m     21\u001b[0m \u001b[1;31m# Binarize the output\u001b[0m\u001b[1;33m\u001b[0m\u001b[1;33m\u001b[0m\u001b[1;33m\u001b[0m\u001b[0m\n\u001b[0;32m     22\u001b[0m \u001b[0my\u001b[0m \u001b[1;33m=\u001b[0m \u001b[0mlabel_binarize\u001b[0m\u001b[1;33m(\u001b[0m\u001b[0my\u001b[0m\u001b[1;33m,\u001b[0m \u001b[0mclasses\u001b[0m\u001b[1;33m=\u001b[0m\u001b[1;33m[\u001b[0m\u001b[1;36m1\u001b[0m\u001b[1;33m,\u001b[0m \u001b[1;36m2\u001b[0m\u001b[1;33m,\u001b[0m \u001b[1;36m3\u001b[0m\u001b[1;33m]\u001b[0m\u001b[1;33m)\u001b[0m\u001b[1;33m\u001b[0m\u001b[1;33m\u001b[0m\u001b[0m\n\u001b[1;32m---> 23\u001b[1;33m \u001b[0mn_classes\u001b[0m \u001b[1;33m=\u001b[0m \u001b[0my\u001b[0m\u001b[1;33m.\u001b[0m\u001b[0mshape\u001b[0m\u001b[1;33m[\u001b[0m\u001b[1;36m1881\u001b[0m\u001b[1;33m]\u001b[0m\u001b[1;33m\u001b[0m\u001b[1;33m\u001b[0m\u001b[0m\n\u001b[0m\u001b[0;32m     24\u001b[0m \u001b[1;33m\u001b[0m\u001b[0m\n\u001b[0;32m     25\u001b[0m \u001b[1;31m# Add noisy features to make the problem harder\u001b[0m\u001b[1;33m\u001b[0m\u001b[1;33m\u001b[0m\u001b[1;33m\u001b[0m\u001b[0m\n",
      "\u001b[1;31mIndexError\u001b[0m: tuple index out of range"
     ]
    }
   ],
   "source": [
    "import numpy as np\n",
    "import matplotlib.pyplot as plt\n",
    "from itertools import cycle\n",
    "\n",
    "from sklearn import svm, datasets\n",
    "from sklearn.metrics import roc_curve, auc\n",
    "from sklearn.model_selection import train_test_split\n",
    "from sklearn.preprocessing import label_binarize\n",
    "from sklearn.multiclass import OneVsRestClassifier\n",
    "from sklearn.metrics import roc_auc_score\n",
    "\n",
    "# Import some data to play with\n",
    "#iris = datasets.load_iris()\n",
    "#X = iris.data\n",
    "#y = iris.target\n",
    "\n",
    "# X_train, X_test, y_train, y_test conjunto separado\n",
    "# X, y varables originales\n",
    "\n",
    "\n",
    "# Binarize the output\n",
    "y = label_binarize(y, classes=[1, 2, 3])\n",
    "n_classes = y.shape[1]\n",
    "\n",
    "# Add noisy features to make the problem harder\n",
    "random_state = np.random.RandomState(0)\n",
    "n_samples, n_features = X.shape\n",
    "X = np.c_[X, random_state.randn(n_samples, 1881 * n_features)]\n",
    "\n",
    "# shuffle and split training and test sets\n",
    "X_train, X_test, y_train, y_test = train_test_split(X, y, test_size=0.2, random_state=0) # \n",
    "\n",
    "# Learn to predict each class against the other\n",
    "classifier = OneVsRestClassifier(\n",
    "    svm.SVC(kernel=\"linear\", probability=True, random_state=random_state) #\n",
    ")\n",
    "y_score = classifier.fit(X_train, y_train).decision_function(X_test)\n",
    "\n",
    "# Compute ROC curve and ROC area for each class\n",
    "fpr = dict()\n",
    "tpr = dict()\n",
    "roc_auc = dict()\n",
    "for i in range(n_classes):\n",
    "    fpr[i], tpr[i], _ = roc_curve(y_test[:, i], y_score[:, i])\n",
    "    roc_auc[i] = auc(fpr[i], tpr[i])\n",
    "\n",
    "# Compute micro-average ROC curve and ROC area\n",
    "fpr[\"micro\"], tpr[\"micro\"], _ = roc_curve(y_test.ravel(), y_score.ravel())\n",
    "roc_auc[\"micro\"] = auc(fpr[\"micro\"], tpr[\"micro\"])"
   ]
  },
  {
   "cell_type": "code",
   "execution_count": null,
   "metadata": {},
   "outputs": [],
   "source": [
    "plt.figure()\n",
    "lw = 2\n",
    "plt.plot(\n",
    "    fpr[2],\n",
    "    tpr[2],\n",
    "    color=\"darkorange\",\n",
    "    lw=lw,\n",
    "    label=\"ROC curve (area = %0.2f)\" % roc_auc[2],\n",
    ")\n",
    "plt.plot([0, 1], [0, 1], color=\"navy\", lw=lw, linestyle=\"--\")\n",
    "plt.xlim([0.0, 1.0])\n",
    "plt.ylim([0.0, 1.05])\n",
    "plt.xlabel(\"False Positive Rate\")\n",
    "plt.ylabel(\"True Positive Rate\")\n",
    "plt.title(\"Receiver operating characteristic example\")\n",
    "plt.legend(loc=\"lower right\")\n",
    "plt.show()"
   ]
  },
  {
   "cell_type": "code",
   "execution_count": null,
   "metadata": {},
   "outputs": [],
   "source": [
    "# First aggregate all false positive rates\n",
    "all_fpr = np.unique(np.concatenate([fpr[i] for i in range(n_classes)]))\n",
    "\n",
    "# Then interpolate all ROC curves at this points\n",
    "mean_tpr = np.zeros_like(all_fpr)\n",
    "for i in range(n_classes):\n",
    "    mean_tpr += np.interp(all_fpr, fpr[i], tpr[i])\n",
    "\n",
    "# Finally average it and compute AUC\n",
    "mean_tpr /= n_classes\n",
    "\n",
    "fpr[\"macro\"] = all_fpr\n",
    "tpr[\"macro\"] = mean_tpr\n",
    "roc_auc[\"macro\"] = auc(fpr[\"macro\"], tpr[\"macro\"])\n",
    "\n",
    "# Plot all ROC curves\n",
    "plt.figure()\n",
    "plt.plot(\n",
    "    fpr[\"micro\"],\n",
    "    tpr[\"micro\"],\n",
    "    label=\"micro-average ROC curve (area = {0:0.2f})\".format(roc_auc[\"micro\"]),\n",
    "    color=\"deeppink\",\n",
    "    linestyle=\":\",\n",
    "    linewidth=4,\n",
    ")\n",
    "\n",
    "plt.plot(\n",
    "    fpr[\"macro\"],\n",
    "    tpr[\"macro\"],\n",
    "    label=\"macro-average ROC curve (area = {0:0.2f})\".format(roc_auc[\"macro\"]),\n",
    "    color=\"navy\",\n",
    "    linestyle=\":\",\n",
    "    linewidth=4,\n",
    ")\n",
    "\n",
    "colors = cycle([\"aqua\", \"darkorange\", \"cornflowerblue\"])\n",
    "for i, color in zip(range(n_classes), colors):\n",
    "    plt.plot(\n",
    "        fpr[i],\n",
    "        tpr[i],\n",
    "        color=color,\n",
    "        lw=lw,\n",
    "        label=\"ROC curve of class {0} (area = {1:0.2f})\".format(i, roc_auc[i]),\n",
    "    )\n",
    "\n",
    "plt.plot([0, 1], [0, 1], \"k--\", lw=lw)\n",
    "plt.xlim([0.0, 1.0])\n",
    "plt.ylim([0.0, 1.05])\n",
    "plt.xlabel(\"False Positive Rate\")\n",
    "plt.ylabel(\"True Positive Rate\")\n",
    "plt.title(\"Some extension of Receiver operating characteristic to multiclass\")\n",
    "plt.legend(loc=\"lower right\")\n",
    "plt.show()"
   ]
  },
  {
   "cell_type": "markdown",
   "metadata": {},
   "source": [
    "## Curva ROC\n",
    "\n",
    "\n",
    "* La ***curva ROC*** (***R***eceiver ***O***perating ***C***haracteristic) es una gráfica que ***representa la Tasa de Verdaderos Positivos (TPR) en el eje vertical frente a la Tasa de Falsos Positivos (FPR) en el eje horizontal***.\n",
    "\n",
    "    <img src=\"./imgs/022_eval.png\" style=\"width: 400px;\"/>\n",
    "\n",
    "\n",
    "* Mientras mas me alejo de la recta central mejor es el modelo\n",
    "* Siendo:\n",
    "<br>\n",
    "\n",
    "    + ***TPR***: Recall\n",
    "        $$TPR = Recall = \\frac{TP}{TP + FN} = \\frac{TP}{Positive}$$\n",
    "    + ***FPR***: Fall-out\n",
    "        $$FPR = Fall-Out = \\frac{FP}{FP + TN} = \\frac{FP}{Negative}$$\n",
    "\n",
    "* Para ***construir esta curva***:\n",
    "\n",
    "    1. Nuestro ***modelo de clasificación nos tiene que devolver una probabilidad o score de pertenencia a la clase positiva y debemos de ordenar esa probabilidad o score de mayor a menor valor*** (de manera decreciente).\n",
    "<br>\n",
    "\n",
    "    2. ***Al recorrer los elementos ordenados*** vemos:\n",
    "        + Si nos encontramos un elemento que ***pertenece a la clase positiva (TPR) nos movemos verticalmente hacia arriba***.\n",
    "        + Si nos encontremos un elemento que ***pertenece a la clase negativa (FPR) nos movemos hacia la derecha***.\n",
    "        \n",
    "* Por otro lado, en la curva ROC conecta siempre los puntos (0,0) y (1,1) con una recta, normalmente representada de manera punteada.\n",
    "\n",
    "\n",
    "## - ROC_AUC: Área bajo la curva ROC\n",
    "\n",
    "\n",
    "* El ***Área Bajo la Curva ROC (Area Under Curve), es el área que queda bajo la curva ROC*** y nos vale como una medida de precisión del clasificador.\n",
    "\n",
    "\n",
    "* Un modelo que clasifique todos los elementos perfectamente, tendrá un ROC_AUC de 1.\n",
    "\n",
    "\n",
    "* Cuando se representa la curva ROC se suele dibujar una curva diagonal (discontinua) que representa un clasificador cuyos elementos tienen todos la misma probabilidad o score y esta diagonal tiene un ROC_AUC de 0,5.\n",
    "\n",
    "\n",
    "* Cuanto más cercana este nuestra curva ROC de la diagonal, significará que nuestro modelo es menos preciso a la hora de clasificar y cuanto más 'alejado' este de la diagonal, más preciso será nuestro modelo."
   ]
  },
  {
   "cell_type": "markdown",
   "metadata": {},
   "source": [
    "### ¿Por qué es útil la curva de precisión-sensibilidad?\n",
    "\n",
    "Prestar atención a la curva de precisión-sensibilidad es especialmente útil en aquellos casos en los que tenemos clases desbalanceadas. Suele ser bastante común que haya muchos registros negativos (clase 0) y muy pocos positivos (clase 1)."
   ]
  },
  {
   "cell_type": "markdown",
   "metadata": {},
   "source": [
    "# ROC solo se aplica a variables binarias, de lo contrario hay que hacer una multivariabilizacion. Esto requeire un multiclassifier.\n",
    "|"
   ]
  },
  {
   "cell_type": "code",
   "execution_count": null,
   "metadata": {},
   "outputs": [],
   "source": []
  },
  {
   "cell_type": "code",
   "execution_count": null,
   "metadata": {},
   "outputs": [],
   "source": []
  },
  {
   "cell_type": "code",
   "execution_count": null,
   "metadata": {},
   "outputs": [],
   "source": []
  },
  {
   "cell_type": "code",
   "execution_count": null,
   "metadata": {},
   "outputs": [],
   "source": []
  },
  {
   "cell_type": "code",
   "execution_count": null,
   "metadata": {},
   "outputs": [],
   "source": []
  },
  {
   "cell_type": "code",
   "execution_count": null,
   "metadata": {},
   "outputs": [],
   "source": []
  },
  {
   "cell_type": "code",
   "execution_count": null,
   "metadata": {},
   "outputs": [],
   "source": []
  },
  {
   "cell_type": "code",
   "execution_count": null,
   "metadata": {},
   "outputs": [],
   "source": []
  },
  {
   "cell_type": "code",
   "execution_count": null,
   "metadata": {},
   "outputs": [],
   "source": []
  },
  {
   "cell_type": "code",
   "execution_count": null,
   "metadata": {},
   "outputs": [],
   "source": []
  },
  {
   "cell_type": "code",
   "execution_count": null,
   "metadata": {},
   "outputs": [],
   "source": []
  },
  {
   "cell_type": "code",
   "execution_count": null,
   "metadata": {},
   "outputs": [],
   "source": []
  },
  {
   "cell_type": "code",
   "execution_count": null,
   "metadata": {},
   "outputs": [],
   "source": []
  },
  {
   "cell_type": "code",
   "execution_count": null,
   "metadata": {},
   "outputs": [],
   "source": []
  },
  {
   "cell_type": "code",
   "execution_count": null,
   "metadata": {},
   "outputs": [],
   "source": []
  },
  {
   "cell_type": "code",
   "execution_count": null,
   "metadata": {},
   "outputs": [],
   "source": []
  },
  {
   "cell_type": "code",
   "execution_count": null,
   "metadata": {},
   "outputs": [],
   "source": []
  },
  {
   "cell_type": "code",
   "execution_count": null,
   "metadata": {},
   "outputs": [],
   "source": []
  },
  {
   "cell_type": "code",
   "execution_count": null,
   "metadata": {},
   "outputs": [],
   "source": []
  },
  {
   "cell_type": "code",
   "execution_count": null,
   "metadata": {},
   "outputs": [],
   "source": []
  },
  {
   "cell_type": "code",
   "execution_count": null,
   "metadata": {},
   "outputs": [],
   "source": []
  },
  {
   "cell_type": "code",
   "execution_count": null,
   "metadata": {},
   "outputs": [],
   "source": []
  },
  {
   "cell_type": "code",
   "execution_count": null,
   "metadata": {},
   "outputs": [],
   "source": []
  }
 ],
 "metadata": {
  "kernelspec": {
   "display_name": "Python 3",
   "language": "python",
   "name": "python3"
  },
  "language_info": {
   "codemirror_mode": {
    "name": "ipython",
    "version": 3
   },
   "file_extension": ".py",
   "mimetype": "text/x-python",
   "name": "python",
   "nbconvert_exporter": "python",
   "pygments_lexer": "ipython3",
   "version": "3.8.5"
  },
  "varInspector": {
   "cols": {
    "lenName": 16,
    "lenType": 16,
    "lenVar": 40
   },
   "kernels_config": {
    "python": {
     "delete_cmd_postfix": "",
     "delete_cmd_prefix": "del ",
     "library": "var_list.py",
     "varRefreshCmd": "print(var_dic_list())"
    },
    "r": {
     "delete_cmd_postfix": ") ",
     "delete_cmd_prefix": "rm(",
     "library": "var_list.r",
     "varRefreshCmd": "cat(var_dic_list()) "
    }
   },
   "types_to_exclude": [
    "module",
    "function",
    "builtin_function_or_method",
    "instance",
    "_Feature"
   ],
   "window_display": false
  }
 },
 "nbformat": 4,
 "nbformat_minor": 4
}
